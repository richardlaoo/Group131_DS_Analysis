{
 "cells": [
  {
   "cell_type": "markdown",
   "metadata": {},
   "source": [
    "# COGS 108 - Project Proposal"
   ]
  },
  {
   "cell_type": "markdown",
   "metadata": {},
   "source": [
    "# Names\n",
    "\n",
    "- Dean Nafarrete\n",
    "- Emily Le\n",
    "- Cedric Jeng\n",
    "- Kevin Morales\n",
    "- Richard Lao"
   ]
  },
  {
   "cell_type": "markdown",
   "metadata": {},
   "source": [
    "# Research Question"
   ]
  },
  {
   "cell_type": "markdown",
   "metadata": {},
   "source": [
    "Is there a statistically significant relationship between a region's GDP, environmental degradation, homelessness, and overall quality of life on crime rates? How can we use these variables to create a new standard measurement for economic health? \n"
   ]
  },
  {
   "cell_type": "markdown",
   "metadata": {},
   "source": [
    "## Background and Prior Work"
   ]
  },
  {
   "cell_type": "markdown",
   "metadata": {},
   "source": [
    "\n",
    "- Include a general introduction to your topic\n",
    "- Include explanation of what work has been done previously\n",
    "- Include citations or links to previous work\n",
    "\n",
    "This section will present the background and context of your topic and question in a few paragraphs. Include a general introduction to your topic and then describe what information you currently know about the topic after doing your initial research. Include references to other projects who have asked similar questions or approached similar problems. Explain what others have learned in their projects.\n",
    "\n",
    "Find some relevant prior work, and reference those sources, summarizing what each did and what they learned. Even if you think you have a totally novel question, find the most similar prior work that you can and discuss how it relates to your project.\n",
    "\n",
    "References can be research publications, but they need not be. Blogs, GitHub repositories, company websites, etc., are all viable references if they are relevant to your project. It must be clear which information comes from which references. (2-3 paragraphs, including at least 2 references)\n",
    "\n",
    " **Use inline citation through HTML footnotes to specify which references support which statements** \n",
    "\n",
    "For example: After government genocide in the 20th century, real birds were replaced with surveillance drones designed to look just like birds.<a name=\"cite_ref-1\"></a>[<sup>1</sup>](#cite_note-1) Use a minimum of 2 or 3 citations, but we prefer more.<a name=\"cite_ref-2\"></a>[<sup>2</sup>](#cite_note-2) You need enough to fully explain and back up important facts. \n",
    "\n",
    "Note that if you click a footnote number in the paragraph above it will transport you to the proper entry in the footnotes list below.  And if you click the ^ in the footnote entry, it will return you to the place in the main text where the footnote is made.\n",
    "\n",
    "To understand the HTML here, `<a name=\"#...\"> </a>` is a tag that allows you produce a named reference for a given location.  Markdown has the construciton `[text with hyperlink](#named reference)` that will produce a clickable link that transports you the named reference.\n",
    "\n",
    "1. <a name=\"cite_note-1\"></a> [^](#cite_ref-1) Lorenz, T. (9 Dec 2021) Birds Aren’t Real, or Are They? Inside a Gen Z Conspiracy Theory. *The New York Times*. https://www.nytimes.com/2021/12/09/technology/birds-arent-real-gen-z-misinformation.html \n",
    "2. <a name=\"cite_note-2\"></a> [^](#cite_ref-2) Also refs should be important to the background, not some randomly chosen vaguely related stuff. Include a web link if possible in refs as above.\n"
   ]
  },
  {
   "cell_type": "markdown",
   "metadata": {},
   "source": [
    "# Hypothesis\n"
   ]
  },
  {
   "cell_type": "markdown",
   "metadata": {},
   "source": [
    "\n",
    "- Put your hypothesis here, this is different than your question. This what you think the answer will be \n",
    "- Ensure that this hypothesis is clear to readers\n",
    "- Explain why you think this will be the outcome (what was your thinking?)\n",
    "\n",
    "If you question is \"What is the association between X and Y\" then a hypothesis might be \"We predict a strong correlation between X and Y\" or you might predict no correlation or any other possible relationship. Briefly explain your thinking. (2-3 sentences)"
   ]
  },
  {
   "cell_type": "markdown",
   "metadata": {},
   "source": [
    "# Data"
   ]
  },
  {
   "cell_type": "markdown",
   "metadata": {},
   "source": [
    "1. Explain what the **ideal** dataset you would want to answer this question. (This should include: What variables? How many observations? Who/what/how would these data be collected? How would these data be stored/organized?)<br>\n",
    "* Our ideal dataset would be a dataset that includes measures for a region's GDP, environmental degradation, homelessness, and crime rates. While measures for GDP, homelessness, and crime rates are straightforward, environmental degradation is not as clear. Thus we can use tools provided by the state such as CalEnviroScreen 4.0 to act as measures for a region's environmental degradation. Unemployment data can be found from the California Employment Development Department, crime data from OpenJustice led by the California Department of Justice, and U.S. Census for some population data. All of this data is availible in usable forms (csv file, Microsoft Excel spreadsheet, etc.) through government websites. We would convert our files into pandas dataframes, which we would then merge into one dataframe that includes the data that we want. That is, the ideal dataset would be organized by it's observations of each individual county in California, which would be 58, where the variables will be the region's GDP, environmental degradation, homelessness, and crime crates.\n",
    "\n",
    "1. Search for potential **real** datasets that could provide you with something useful for this project.  You do not have to find every piece of data you will use, but you do need to have demonstrated some idea that (a) this data is gettable and (b) that this data may be different from what your ideal is.<br>\n",
    "\n",
    "* <u>**Environmental degradation**</u> data: https://oehha.ca.gov/calenviroscreen/report/calenviroscreen-40<br>\n",
    "* <u>**GDP**</u> per county in California data: https://www.bea.gov/data/gdp/gdp-county-metro-and-other-areas<br>\n",
    "\n",
    "* <u>**Unemployment**</u> <br>\n",
    "Unemployment rate for California (as a whole):  https://labormarketinfo.edd.ca.gov/geography/california-statewide.html <br>\n",
    "Unemployment rate for California (as counties): https://labormarketinfo.edd.ca.gov/geography/lmi-by-county.html <br>\n",
    "* <u>**Crime**</u> <br>\n",
    "Number of each crime commited, broken down to type of crime (basically all felonies) in California and county: https://openjustice.doj.ca.gov/exploration/crime-statistics/crimes-clearances <br>\n",
    " For a more general numbers of crime committed, we may look at this (includes misdemeanors numbers): https://openjustice.doj.ca.gov/exploration/crime-statistics/arrests <br>\n",
    "For some insight on probation, including termination versus revoke, we may want to use: https://openjustice.doj.ca.gov/exploration/crime-statistics/adult-probation-caseload-actions <br>\n",
    "For calculating proportions based on county, U.S. Census 2020-2024 provides population data: https://www.census.gov/data/tables/time-series/demo/popest/2020s-counties-total.html <br>\n",
    "\n",
    "\n",
    "* All these sites have data that's not only obtainable but also easily processes because they are kept in Excel files. Excel files are csv files which can be easily turned into pandas dataframes. Of course, these sites contain more data than we need in our project, so tidying will be necessary. Moreover, we may choose a focus on specific types of crimes, such as violent crimes versus misdemeanors, or we may choose to look at all crime as a whole. \n"
   ]
  },
  {
   "cell_type": "markdown",
   "metadata": {},
   "source": [
    "# Ethics & Privacy"
   ]
  },
  {
   "cell_type": "markdown",
   "metadata": {},
   "source": [
    "- Thoughtful discussion of ethical concerns included\n",
    "- Ethical concerns consider the whole data science process (question asked, data collected, data being used, the bias in data, analysis, post-analysis, etc.)\n",
    "- How your group handled bias/ethical concerns clearly described\n",
    "\n",
    "Acknowledge and address any ethics & privacy related issues of your question(s), proposed dataset(s), and/or analyses. Use the information provided in lecture to guide your group discussion and thinking. If you need further guidance, check out [Deon's Ethics Checklist](http://deon.drivendata.org/#data-science-ethics-checklist). In particular:\n",
    "\n",
    "- Are there any biases/privacy/terms of use issues with the data you propsed?\n",
    "- Are there potential biases in your dataset(s), in terms of who it composes, and how it was collected, that may be problematic in terms of it allowing for equitable analysis? (For example, does your data exclude particular populations, or is it likely to reflect particular human biases in a way that could be a problem?)\n",
    "- How will you set out to detect these specific biases before, during, and after/when communicating your analysis?\n",
    "- Are there any other issues related to your topic area, data, and/or analyses that are potentially problematic in terms of data privacy and equitable impact?\n",
    "- How will you handle issues you identified?"
   ]
  },
  {
   "cell_type": "markdown",
   "metadata": {},
   "source": [
    "# Team Expectations "
   ]
  },
  {
   "cell_type": "markdown",
   "metadata": {},
   "source": [
    "\n",
    "Read over the [COGS108 Team Policies](https://github.com/COGS108/Projects/blob/master/COGS108_TeamPolicies.md) individually. Then, include your group’s expectations of one another for successful completion of your COGS108 project below. Discuss and agree on what all of your expectations are. Discuss how your team will communicate throughout the quarter and consider how you will communicate respectfully should conflicts arise. By including each member’s name above and by adding their name to the submission, you are indicating that you have read the COGS108 Team Policies, accept your team’s expectations below, and have every intention to fulfill them. These expectations are for your team’s use and benefit — they won’t be graded for their details.\n",
    "\n",
    "* Use Discord to communicate. Within 12 hours expected, but 2 hours if close to deadline.\n",
    "* Meet at least **once** a week. Every Friday 12:30 PM. \n",
    "* Have an open space where all voices are heard. \n",
    "* Make decisions as a group. Majority decisions. \n",
    "* Dean will oversee git merge requests. \n",
    "* Specializations/Spearhead: Dean (Project Leader), Kevin (Analysis), Emily (Editor), Cedric and Richard (Coder)\n",
    "* The roles above are not restrictive, everyone will work on each part a little, but these are the main *specializations*\n",
    "* In the case someone is struggling to deliver something they promised on, it is expected to let the group know as soon as possible. That way, we can look to delegate the tasks among the others to compensate. Project Leader will make final decision to contact TA if needed."
   ]
  },
  {
   "cell_type": "markdown",
   "metadata": {},
   "source": [
    "# Project Timeline Proposal"
   ]
  },
  {
   "cell_type": "markdown",
   "metadata": {},
   "source": [
    "Specify your team's specific project timeline. An example timeline has been provided. Changes the dates, times, names, and details to fit your group's plan.\n",
    "\n",
    "If you think you will need any special resources or training outside what we have covered in COGS 108 to solve your problem, then your proposal should state these clearly. For example, if you have selected a problem that involves implementing multiple neural networks, please state this so we can make sure you know what you’re doing and so we can point you to resources you will need to implement your project. Note that you are not required to use outside methods.\n",
    "\n",
    "\n",
    "\n",
    "| Meeting Date  | Meeting Time| Completed Before Meeting  | Discuss at Meeting |\n",
    "|---|---|---|---|\n",
    "| 4/25  |  4 PM | Brainstormed topics and questions | Finalized research question and delegated tasks for proposal. Rough research done on topic. | \n",
    "| 4/28  |  8 PM |  Finalize Proposal. Hypothesis, Looking for Data, Ethics, How to Data Wrangle | Looking forward. Delegate tasks for how to research, retrieve data, and analysis plan | \n",
    "| N/A  | N/A  | Edit, finalize, and submit proposal; Search for datasets  | Discuss Wrangling and possible analytical approaches; Assign group members to lead each specific part   |\n",
    "| N/A  | N/A  | Import & Wrangle Data (Ant Man); EDA (Hulk) | Review/Edit wrangling/EDA; Discuss Analysis Plan   |\n",
    "| N/A  | N/A  | Finalize wrangling/EDA; Begin Analysis (Iron Man; Thor) | Discuss/edit Analysis; Complete project check-in |\n",
    "| N/A  | N/A  | Complete analysis; Draft results/conclusion/discussion (Wasp)| Discuss/edit full project |\n",
    "| N/A  | Before 11:59 PM  | NA | Turn in Final Project & Group Project Surveys |"
   ]
  },
  {
   "cell_type": "markdown",
   "metadata": {},
   "source": []
  }
 ],
 "metadata": {
  "kernelspec": {
   "display_name": "base",
   "language": "python",
   "name": "python3"
  },
  "language_info": {
   "codemirror_mode": {
    "name": "ipython",
    "version": 3
   },
   "file_extension": ".py",
   "mimetype": "text/x-python",
   "name": "python",
   "nbconvert_exporter": "python",
   "pygments_lexer": "ipython3",
   "version": "3.12.9"
  }
 },
 "nbformat": 4,
 "nbformat_minor": 2
}
