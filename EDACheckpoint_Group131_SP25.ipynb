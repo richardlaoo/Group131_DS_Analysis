{
 "cells": [
  {
   "cell_type": "markdown",
   "metadata": {},
   "source": [
    "**If you lost points on the last checkpoint you can get them back by responding to TA/IA feedback**  \n",
    "\n",
    "Update/change the relevant sections where you lost those points, make sure you respond on GitHub Issues to your TA/IA to call their attention to the changes you made here.\n",
    "\n",
    "Please update your Timeline... no battle plan survives contact with the enemy, so make sure we understand how your plans have changed."
   ]
  },
  {
   "cell_type": "code",
   "execution_count": 1,
   "metadata": {},
   "outputs": [],
   "source": [
    "import numpy as np\n",
    "import pandas as pd"
   ]
  },
  {
   "cell_type": "markdown",
   "metadata": {},
   "source": [
    "# COGS 108 - EDA Checkpoint"
   ]
  },
  {
   "cell_type": "markdown",
   "metadata": {},
   "source": [
    "# Names\n",
    "\n",
    "- Dean Nafarrete\n",
    "- Emily Le\n",
    "- Cedric Jeng\n",
    "- Kevin Morales\n",
    "- Richard Lao"
   ]
  },
  {
   "cell_type": "markdown",
   "metadata": {},
   "source": [
    "# Research Question"
   ]
  },
  {
   "cell_type": "markdown",
   "metadata": {},
   "source": [
    "Is there a statistically significant relationship between a region's economic health(GDP and Household Income), environmental degradation(Greenhouse Gas Emissions and Air Quality), and unemployment rate on crime rates? How can we use these variables to create a new standard measurement for economic health?\n"
   ]
  },
  {
   "cell_type": "markdown",
   "metadata": {},
   "source": [
    "## Background and Prior Work"
   ]
  },
  {
   "cell_type": "markdown",
   "metadata": {},
   "source": [
    "The disproportionate amount of crime in urban areas is a topic that has been heavily explored by sociologists and economists alike. An article from the Journal of Political Economy, “Why is There More Crime in Cities?”, compiled a number of different theories. They note that crime rates in cities outpace their rural counterparts even when accounting for the larger population. Some of the theories they posit suggest that dense city environments may cultivate less connected communities compared to smaller towns, decrease risk for criminals, or that those looking to profit from crime are likely to find it in economic centers. Ultimately, they found that crime reporting is underrepresented in cities, and the likelihood of arrest for a given crime is lower.[1] Regardless, it’s difficult to pinpoint any one cause, and the theories are merely speculation on the social implications on crime. As for the environment, much less research is evident. The council on Strategic Risks highlighted this issue; extreme weather events, higher temperatures, and social factors related to stresses based on climate have been linked to various forms of crime, especially violent crime. Some examples include gender-based violence against women increasing following adverse weather events and the likelihood of mass shooting events increasing in the summer months. The working theory is that changes in the environment may indirectly cause stresses that incentivize crime more by reducing the perceived risk for potential criminals.[2] Directly connecting a factor of climate change, like environmental degradation, may lend more credence to this issue being a factor in addressing crime in the future.\n",
    "\n",
    "Along with changes in the climate, income inequality is a known factor in crime rates. Increasing fears over crime often go hand in hand with homelessness; as such, this phenomenon has been explored in the past. The Institute of Labor Economics studied this effect in California, finding that homeless rates and crime rates are linked, but how they are linked is interesting; high rates of homelessness increase the number of violent crimes, but not property crimes.[3] Given this study was conducted at the state level, perhaps focusing on a single area may reaffirm or contradict this finding, depending on how a smaller, less diversified economy may have an effect. On the whole, while larger factors on crime rates appear to go overlooked, there have been some initiatives to address this disparity between economy, climate, inequality, and crime. Several states have implemented an alternate measure of economic health known as the genuine progress indicator, or GPI. This standard allows states to take into consideration non-economic factors like the environment and human health standards on the economy. According to the government of Maryland, this measure informs policymakers of economic progress without purely looking at the economic output, which may increase at the expense of its citizens.[4] We believe that this approach is more progressive on these issues and may prove to benefit the economy and well being of individuals in unison, however, the fact that this model is only implemented in a few states as a policy informing measurement is insufficient. Finding a general link between these factors may reveal the true cost of these factors, and potentially allow us to devise another measurement that can be achieved using public data.\n",
    "\n",
    "\n",
    "1. ^ Glaeser, E. L., & Sacerdote, B. (1999). Why is There More Crime in Cities? Journal of Political Economy, 107(S6), S225–S258. https://doi.org/10.1086/250109\n",
    "2. ^ Facini, A. (2024, October 17). Climate Change & Crime: A big, bad, largely overlooked Nexus. The Council on Strategic Risks. http://councilonstrategicrisks.org/2024/10/17/climate-change-crime-a-big-bad-largely-overlooked-nexus/\n",
    "3. ^ Artz, B., & Welsch, D. M. (2024, June). Homelessness and crime: An examination of California. Institute of Labor Economics. https://docs.iza.org/dp17086.pdf\n",
    "4. ^ Campbell, E. (n.d.). Maryland Genuine Progress Indicator. Maryland Department of Natural Resources. https://dnr.maryland.gov/mdgpi/Pages/default.aspx \n"
   ]
  },
  {
   "cell_type": "markdown",
   "metadata": {},
   "source": [
    "# Hypothesis\n"
   ]
  },
  {
   "cell_type": "markdown",
   "metadata": {},
   "source": [
    "Our hypothesis is that there is a significant relationship with environmental degradation, high economic output, and unemployment that affects crime rates, and using these factors we can create a new measure of a city’s well being as an alternate measure of economic health. In order to measure these variables, we are looking at the air quality index, greenhouse gas index, unemployment percentage rates, and crime rates for each county. Higher outputs of the economy attract higher rates of crime because of the high foot traffic in retail centers where businesses sell products and people are carrying valuables or money. Furthermore, the stress of falling into unemployment and being homeless have individuals resorting to committing crimes as one of their survival options. As the environment continues to decline, this will also be another factor that leads to higher crime rates and in particular violent crimes due to lower air quality and greenhouse gases creating a toxic environment, thus inflicting environmental stress on the population. All of these variables are high stressing factors in people’s lives, which ultimately dictate their wellbeing, safety, and future hence why when these variables are threatened in their lives, people will turn towards committing crimes in order to ensure their survival. Additionally, we believe that there will be a noticeably greater significant effect on crime rates of our given variables in urbanized areas compared to its rural counterparts."
   ]
  },
  {
   "cell_type": "markdown",
   "metadata": {},
   "source": [
    "# Data"
   ]
  },
  {
   "cell_type": "markdown",
   "metadata": {},
   "source": [
    "## Data overview\n",
    "\n",
    "Our ideal dataset would be a dataset that includes measures for a region's GDP, median household income, unemployment, carbon emissions, air quality, solid waste, and crime rates. Our ideal number of observations include our variables from all counties in California across multiple years with the ideal span being about 10 years. This would look like about 58 counties with a 10 year span per county. Looking at the data we have already found our time span can vary, but there is a time period where all our datasets line up.\n",
    "\n",
    "* Environmental degradation data: Green house Gas Emissions :https://www.epa.gov/system/files/other-files/2024-10/2023_data_summary_spreadsheets.zip ; Air Quality: https://www.epa.gov/outdoor-air-quality-data/air-quality-statistics-report \n",
    "\n",
    "* San Diego Median Income/Capita, Crime Rates, Unemployment info, based on specific regions in San Diego\n",
    "https://data.sandiegocounty.gov/Live-Well-San-Diego/Live-Well-/San-Diego-Database/wsyp-5xpf/about_data \n",
    "\n",
    "* <u>**Unemployment.. Less than Ideal**</u> <br>\n",
    "Unemployment rate for California (as a whole):  https://labormarketinfo.edd.ca.gov/geography/california-statewide.html <br>\n",
    "Unemployment rate for California (as counties): https://labormarketinfo.edd.ca.gov/geography/lmi-by-county.html <br>\n",
    "* <u>Crime</u> <br>\n",
    "Crime rates broken down into total crime, violent crime, and property crime rates for cities/regions in San Diego county: https://data.sandiegocounty.gov/Safety/SANDAG-Crime-Data/486f-q228/data_preview <br>\n",
    "\n",
    "* All these sites have data that's not only obtainable but also easily processes because they are kept in Excel files. Excel files are csv files which can be easily turned into pandas dataframes. Of course, these sites contain more data than we need in our project, so tidying will be necessary. Moreover, we may choose a focus on specific types of crimes, such as violent crimes versus misdemeanors, or we may choose to look at all crime as a whole. \n",
    "\n",
    "\n",
    "- Dataset #1\n",
    "  - Dataset Name: Air Quality Dataset\n",
    "  - Link to the dataset: https://www.epa.gov/outdoor-air-quality-data/air-quality-statistics-report\n",
    "  - Number of observations: 823\n",
    "  - Number of variables: 18\n",
    "  - Description: This dataset tracks county-level air quality metrics across California from 2010-2025, with each row representing a county's annual aggregate data. The key variables include AQI metrics (AQI Maximum, AQI 90th Percentile, and AQI Median), which serve as proxies for understanding the air quality in a respective county in a specific year and as baseline air quality respectively. The data requires cleaning to handle columns of information not needed in this project as well as standardizing labels to fit with our other datasets. \n",
    "\n",
    "- Dataset #2 \n",
    "  - Dataset Name: Crime Rate Dataset\n",
    "  - Link to the datasets: \n",
    "    - https://dof.ca.gov/forecasting/demographics/estimates/ (for population)\n",
    "    - https://openjustice.doj.ca.gov/data (for crime count)\n",
    "  - Number of observations: 28591 (for crime), 1770 (for population)\n",
    "  - Number of variables: 70 (for crime), 3 (for population)\n",
    "  - Description: We plan to look at **Violent_sum**, **Property_sum** within the crime count dataset & **Population** within the population dataset. For both, we will look at **Year** and **County**. Both datasets contain datetime datatype for **Year**, integer datatype for **Violent_sum**, **Property_sum**, & **Population**, and string datatype for **County**, but can contain undefined values which we will use **0** as a proxy. \n",
    "  - We plan to use `.strip()` for removing empty spaces, `pd.to_datetime()` for converting **Year** to an integer datatype, `.split()` for removing redundant words like '*County*' in 'Alameda *County*', `.astype()` to explicity convert our data to integer, `.melt()` to reshape the population dataframe to a long format, `.drop()` for unecessary columns, `.rename()` for making consistent columns before merge, and `.merge()` to get the complete Crime Rate Dataset. Both datasets will be merged from 2000-2025, where crime rate will then be calculated directly using the population count per county and crime commited per county to get the rate of crime per 100,000 residents. \n",
    "- Dataset #3\n",
    "  - Dataset name : Greenhouse Gas Emissions \n",
    "  - Link to the dataset: https://www.epa.gov/system/files/other-files/2024-10/2023_data_summary_spreadsheets.zip\n",
    "  - Number of Observations:767\n",
    "  - Number of Variables:3\n",
    "  - Description: We plan to use the the Green House Gas Emissions data set to look at emissions of green house gases per county, measured in units of metric tons of carbon dioxide. We plan on using **.dropna()** in order to get rid of missing data entries as well as using **.melt()** to reshape the data into long format and **.apply()** to further wrangle the dataset in order to remove the redundancy of county in the original unwrangled and tidy dataset . Further more the key observations for this datasets will ne looking at the emmisions by county in CA overtime \n",
    "- Dataset #4\n",
    "  - Dataset Name: Real Total GDP by County, California\n",
    "  - Link to the datasets: https://fred.stlouisfed.org/release/tables?eid=1071149&rid=397\n",
    "  - Number of observations: 1357\n",
    "  - Number of variables: 2\n",
    "  - Description: We plan to use Real Total GDP for all the counties in California to compare against crime data, measured in thousands of chained 2017 USD. This dataset measures the GDP of all industries for their respective county and adjusts it for inflation, offering a true measure of economic growth that can be compared against crime data. Since the data is based on observation dates measured at the beginning of each year, we plan to change each observation date to account for the previous year's data and drop any missing data entries.\n",
    "- Dataset #5: \n",
    "  - Dataset Name: Median Household Income by County, California\n",
    "  - Link to the datasets: https://fred.stlouisfed.org/searchresults/?st=median%20household%20income%20county%20california\n",
    "  - Number of observations: 1357\n",
    "  - Number of variables: 2\n",
    "  - Description: We plan to use Median Household Income to compare against crime data, measured in USD, to determine whether the economic status of individuals has an effect on crime rate. This dataset measures the median household income for all counties in California. Since the data is based on observation dates measured at the beginning of each year, we plan to change each observation date to account for the previous year's data and drop any missing data entries.\n",
    "- Dataset #6:\n",
    "  - Dataset name : Unemployment\n",
    "  - Link to the dataset: https://fredaccount.stlouisfed.org/public/datalist/8337\n",
    "  - Description: The dataset contains the unemployment percentage rates of each county within California each year. The percentages are measured each year from the beginning of Januarary 2000 to 2024. We are going to be looking at the percent of unemployment each year and the specific year variables. This dataset is already cleaned up and wrangled through the data list website.\n",
    "- Dataset #1\n",
    "  - Dataset Name:\n",
    "  - Link to the dataset:\n",
    "  - Number of observations:\n",
    "  - Number of variables:\n",
    "- Dataset #2 (if you have more than one!)\n",
    "  - Dataset Name:\n",
    "  - Link to the dataset:\n",
    "  - Number of observations:\n",
    "  - Number of variables:\n",
    "- etc\n",
    "\n",
    "Now write 2 - 5 sentences describing each dataset here. Include a short description of the important variables in the dataset; what the metrics and datatypes are, what concepts they may be proxies for. Include information about how you would need to wrangle/clean/preprocess the dataset\n",
    "\n",
    "If you plan to use multiple datasets, add a few sentences about how you plan to combine these datasets."
   ]
  },
  {
   "cell_type": "markdown",
   "metadata": {},
   "source": [
    "## Dataset #1 (use name instead of number here)"
   ]
  },
  {
   "cell_type": "code",
   "execution_count": null,
   "metadata": {},
   "outputs": [],
   "source": [
    "## YOUR CODE TO LOAD/CLEAN/TIDY/WRANGLE THE DATA GOES HERE\n",
    "## FEEL FREE TO ADD MULTIPLE CELLS PER SECTION "
   ]
  },
  {
   "cell_type": "markdown",
   "metadata": {},
   "source": [
    "## Temperature Dataset"
   ]
  },
  {
   "cell_type": "code",
   "execution_count": 12,
   "metadata": {},
   "outputs": [],
   "source": [
    "#list of counties in california for merging\n",
    "ca_counties = [\n",
    "    \"Alameda County\",\n",
    "    \"Alpine County\",\n",
    "    \"Amador County\",\n",
    "    \"Butte County\",\n",
    "    \"Calaveras County\",\n",
    "    \"Colusa County\",\n",
    "    \"Contra Costa County\",\n",
    "    \"Del Norte County\",\n",
    "    \"El Dorado County\",\n",
    "    \"Fresno County\",\n",
    "    \"Glenn County\",\n",
    "    \"Humboldt County\",\n",
    "    \"Imperial County\",\n",
    "    \"Inyo County\",\n",
    "    \"Kern County\",\n",
    "    \"Kings County\",\n",
    "    \"Lake County\",\n",
    "    \"Lassen County\",\n",
    "    \"Los Angeles County\",\n",
    "    \"Madera County\",\n",
    "    \"Marin County\",\n",
    "    \"Mariposa County\",\n",
    "    \"Mendocino County\",\n",
    "    \"Merced County\",\n",
    "    \"Modoc County\",\n",
    "    \"Mono County\",\n",
    "    \"Monterey County\",\n",
    "    \"Napa County\",\n",
    "    \"Nevada County\",\n",
    "    \"Orange County\",\n",
    "    \"Placer County\",\n",
    "    \"Plumas County\",\n",
    "    \"Riverside County\",\n",
    "    \"Sacramento County\",\n",
    "    \"San Benito County\",\n",
    "    \"San Bernardino County\",\n",
    "    \"San Diego County\",\n",
    "    \"San Francisco County\",\n",
    "    \"San Joaquin County\",\n",
    "    \"San Luis Obispo County\",\n",
    "    \"San Mateo County\",\n",
    "    \"Santa Barbara County\",\n",
    "    \"Santa Clara County\",\n",
    "    \"Santa Cruz County\",\n",
    "    \"Shasta County\",\n",
    "    \"Sierra County\",\n",
    "    \"Siskiyou County\",\n",
    "    \"Solano County\",\n",
    "    \"Sonoma County\",\n",
    "    \"Stanislaus County\",\n",
    "    \"Sutter County\",\n",
    "    \"Tehama County\",\n",
    "    \"Trinity County\",\n",
    "    \"Tulare County\",\n",
    "    \"Tuolumne County\",\n",
    "    \"Ventura County\",\n",
    "    \"Yolo County\",\n",
    "    \"Yuba County\"\n",
    "]\n",
    "tempdf_list = []"
   ]
  },
  {
   "cell_type": "code",
   "execution_count": 25,
   "metadata": {},
   "outputs": [
    {
     "data": {
      "text/html": [
       "<div>\n",
       "<style scoped>\n",
       "    .dataframe tbody tr th:only-of-type {\n",
       "        vertical-align: middle;\n",
       "    }\n",
       "\n",
       "    .dataframe tbody tr th {\n",
       "        vertical-align: top;\n",
       "    }\n",
       "\n",
       "    .dataframe thead th {\n",
       "        text-align: right;\n",
       "    }\n",
       "</style>\n",
       "<table border=\"1\" class=\"dataframe\">\n",
       "  <thead>\n",
       "    <tr style=\"text-align: right;\">\n",
       "      <th></th>\n",
       "      <th>Date</th>\n",
       "      <th>Average Temperature</th>\n",
       "      <th>County</th>\n",
       "      <th>Year</th>\n",
       "    </tr>\n",
       "  </thead>\n",
       "  <tbody>\n",
       "    <tr>\n",
       "      <th>0</th>\n",
       "      <td>200002</td>\n",
       "      <td>58.5</td>\n",
       "      <td>Alameda County</td>\n",
       "      <td>2000</td>\n",
       "    </tr>\n",
       "    <tr>\n",
       "      <th>1</th>\n",
       "      <td>200003</td>\n",
       "      <td>58.9</td>\n",
       "      <td>Alameda County</td>\n",
       "      <td>2000</td>\n",
       "    </tr>\n",
       "    <tr>\n",
       "      <th>2</th>\n",
       "      <td>200004</td>\n",
       "      <td>59.2</td>\n",
       "      <td>Alameda County</td>\n",
       "      <td>2000</td>\n",
       "    </tr>\n",
       "    <tr>\n",
       "      <th>3</th>\n",
       "      <td>200005</td>\n",
       "      <td>59.5</td>\n",
       "      <td>Alameda County</td>\n",
       "      <td>2000</td>\n",
       "    </tr>\n",
       "    <tr>\n",
       "      <th>4</th>\n",
       "      <td>200006</td>\n",
       "      <td>59.8</td>\n",
       "      <td>Alameda County</td>\n",
       "      <td>2000</td>\n",
       "    </tr>\n",
       "    <tr>\n",
       "      <th>...</th>\n",
       "      <td>...</td>\n",
       "      <td>...</td>\n",
       "      <td>...</td>\n",
       "      <td>...</td>\n",
       "    </tr>\n",
       "    <tr>\n",
       "      <th>135133</th>\n",
       "      <td>202412</td>\n",
       "      <td>61.1</td>\n",
       "      <td>San Luis Obispo County</td>\n",
       "      <td>2024</td>\n",
       "    </tr>\n",
       "    <tr>\n",
       "      <th>135134</th>\n",
       "      <td>202501</td>\n",
       "      <td>61.0</td>\n",
       "      <td>San Luis Obispo County</td>\n",
       "      <td>2025</td>\n",
       "    </tr>\n",
       "    <tr>\n",
       "      <th>135135</th>\n",
       "      <td>202502</td>\n",
       "      <td>61.2</td>\n",
       "      <td>San Luis Obispo County</td>\n",
       "      <td>2025</td>\n",
       "    </tr>\n",
       "    <tr>\n",
       "      <th>135136</th>\n",
       "      <td>202503</td>\n",
       "      <td>61.1</td>\n",
       "      <td>San Luis Obispo County</td>\n",
       "      <td>2025</td>\n",
       "    </tr>\n",
       "    <tr>\n",
       "      <th>135137</th>\n",
       "      <td>202504</td>\n",
       "      <td>61.2</td>\n",
       "      <td>San Luis Obispo County</td>\n",
       "      <td>2025</td>\n",
       "    </tr>\n",
       "  </tbody>\n",
       "</table>\n",
       "<p>4848 rows × 4 columns</p>\n",
       "</div>"
      ],
      "text/plain": [
       "          Date  Average Temperature                  County  Year\n",
       "0       200002                 58.5          Alameda County  2000\n",
       "1       200003                 58.9          Alameda County  2000\n",
       "2       200004                 59.2          Alameda County  2000\n",
       "3       200005                 59.5          Alameda County  2000\n",
       "4       200006                 59.8          Alameda County  2000\n",
       "...        ...                  ...                     ...   ...\n",
       "135133  202412                 61.1  San Luis Obispo County  2024\n",
       "135134  202501                 61.0  San Luis Obispo County  2025\n",
       "135135  202502                 61.2  San Luis Obispo County  2025\n",
       "135136  202503                 61.1  San Luis Obispo County  2025\n",
       "135137  202504                 61.2  San Luis Obispo County  2025\n",
       "\n",
       "[4848 rows x 4 columns]"
      ]
     },
     "execution_count": 25,
     "metadata": {},
     "output_type": "execute_result"
    }
   ],
   "source": [
    "#load all county datasets, merge into one dataset\n",
    "for county in ca_counties:\n",
    "    dataset = f'./Datasets/Temperature/{county}.csv'\n",
    "    temp_env0 = pd.read_csv(dataset, skiprows=4)\n",
    "    temp_env0['County'] = county\n",
    "    tempdf_list.append(temp_env0)\n",
    "temp_env = pd.concat(tempdf_list, ignore_index=True)\n",
    "#cleanup\n",
    "\n",
    "temp_env.rename(columns={'Value':'Average Temperature'})\n",
    "temp_env = temp_env.iloc[:, [0, 1, 2]]\n",
    "temp_env.columns = ['Date', 'Average Temperature', 'County']\n",
    "temp_env = temp_env.dropna(subset=['Date', 'Average Temperature'])\n",
    "temp_env['Year'] = temp_env['Date'].astype(str).str[:4].astype(int)\n",
    "\n",
    "\n",
    "temp_env"
   ]
  },
  {
   "cell_type": "markdown",
   "metadata": {},
   "source": [
    "# Results\n",
    "\n",
    "## Exploratory Data Analysis\n",
    "\n",
    "Carry out whatever EDA you need to for your project.  Because every project will be different we can't really give you much of a template at this point. But please make sure you describe the what and why in text here as well as providing interpretation of results and context."
   ]
  },
  {
   "cell_type": "markdown",
   "metadata": {},
   "source": [
    "### Section 1 of EDA - please give it a better title than this\n",
    "\n",
    "Some more words and stuff.  Remember notebooks work best if you interleave the code that generates a result with properly annotate figures and text that puts these results into context."
   ]
  },
  {
   "cell_type": "code",
   "execution_count": null,
   "metadata": {},
   "outputs": [],
   "source": [
    "## YOUR CODE HERE\n",
    "## FEEL FREE TO ADD MULTIPLE CELLS PER SECTION"
   ]
  },
  {
   "cell_type": "markdown",
   "metadata": {},
   "source": [
    "### Section 2 of EDA if you need it  - please give it a better title than this\n",
    "\n",
    "Some more words and stuff.  Remember notebooks work best if you interleave the code that generates a result with properly annotate figures and text that puts these results into context."
   ]
  },
  {
   "cell_type": "code",
   "execution_count": null,
   "metadata": {},
   "outputs": [],
   "source": [
    "## YOUR CODE HERE\n",
    "## FEEL FREE TO ADD MULTIPLE CELLS PER SECTION"
   ]
  },
  {
   "cell_type": "markdown",
   "metadata": {},
   "source": [
    "# Ethics & Privacy"
   ]
  },
  {
   "cell_type": "markdown",
   "metadata": {},
   "source": [
    "When it comes to dealing with ethics for our project, there may be potential county bias in the data available since it may be the case that there are missing counties that are underrepresented in the available government datasets listed above. That is, Lassen, Modoc, Sierra, and Yuba.\n",
    "Additionally, there may be a confounding variable as not all crime and unemployment may be accounted for if not reported to the government. Though a confounding variable, the data collected from websites such as openjustice.doj.ca.gov permits the public usage of the data from their webiste, noting that their website public data is made sure to not include personal information of minors and or use copyrighted material. Furthermore, there may be bias in our statistical analyses when it comes to looking at the rate of crime rate for a specific high income cities which can bias our interpretations of the data. Additionaly there may be bias in looking at the rate of Carbon Dioxide Gas emmisions in metric tons when looking at big counties in California. This may cause underepresented counties to not get the economic support from California to better their air quality when they most need it.<br>\n",
    "\n",
    "To address these issues, we will explore what missing counties there are in the datasets and why they are underrepresented. That way, we can transparently report these reasons as factors that can impact our intrepretation when we analyze our data. For instance, findings that indicate a strong relationship between our variables and crime rate may not be applicable to rural areas. Furthermore, regarding data collections, data regarding crime and umemployment are tracked by the government, but this is something out of our scope of responsibilities. Instead, we can acknowledge that a negative may be consistent with a 'false negative' because of the underrepresentation when interpreting the relationship between our variables and crime. In this understanding, we may not be able to say for certain that findings of 'no relationship' is true. \n",
    "\n",
    "Our aim for this project is to find a more accurate measure for county's well-being, i.e. environment and economic factors may be considered, and how we can use this for a predictor model that can assist in assessing counties for their levels of crime. This project can be scaled for use in determining how the government can improve their allocation of resources to improve a county's well-being. However, because of bias in our project, our findings may only be applicable to counties similar to San Diego. That is, underrepresented counties should not be observed with our lens. Despite this bias, misuse or misinterpretation of our finding can be misleading and improperly measure a county's well-being. This can lead to reduction in select counties' aid from the government that can adversely affect them. Specifically when looking at funding for county police departments to combat crime or even funding for environmental initaitives to improve air quality in underepresented counties."
   ]
  },
  {
   "cell_type": "markdown",
   "metadata": {},
   "source": [
    "# Team Expectations "
   ]
  },
  {
   "cell_type": "markdown",
   "metadata": {},
   "source": [
    "* Use Discord to communicate. Within 12 hours expected, but 2 hours if close to deadline.\n",
    "* Meet at least **once** a week - Every Friday 12:30 PM. \n",
    "* Have an open space where all voices are heard. Everyone should be open to ideas, criticisms, and suggestions. Make decisions as a group. Majority vote makes final decisions on major portions of the project.\n",
    "* Specializations: Dean (Project Leader), Kevin (Analysis), Emily (Editor), Cedric and Richard (Coder). Project leader will be in charge of handling merge requests, delegating group responsibilities, and organizing roles/meets. Analysis is in charge of overseeing the analysis portion and guiding the rest of the group members on statistics-related items. Editor will be in charge of major writing responsibilities, including drafting reports and proofreading. Coders will advise on coding for the rest of the group and oversee data wrangling portion. These roles are not restrictive - everyone will work on each part a little, but these are the main *specializations*\n",
    "* In the event someone is struggling to deliver something they promised on, it is expected to let the group know as soon as possible. That way, we can look to delegate the tasks among the others to compensate. Project Leader will make final decision to contact TA as needed."
   ]
  },
  {
   "cell_type": "markdown",
   "metadata": {},
   "source": [
    "# Project Timeline Proposal"
   ]
  },
  {
   "cell_type": "markdown",
   "metadata": {},
   "source": [
    "Specify your team's specific project timeline. An example timeline has been provided. Changes the dates, times, names, and details to fit your group's plan.\n",
    "\n",
    "If you think you will need any special resources or training outside what we have covered in COGS 108 to solve your problem, then your proposal should state these clearly. For example, if you have selected a problem that involves implementing multiple neural networks, please state this so we can make sure you know what you’re doing and so we can point you to resources you will need to implement your project. Note that you are not required to use outside methods.\n",
    "\n",
    "\n",
    "\n",
    "| Meeting Date  | Meeting Time| Completed Before Meeting  | Discuss at Meeting |\n",
    "|---|---|---|---|\n",
    "| 4/25  |  4 PM | Brainstormed topics and questions | Finalized research question and delegated tasks for proposal. Rough research done on topic. | \n",
    "| 4/28  |  8 PM |  Finalize Proposal. Hypothesis, Looking for Data, Ethics, How to Data Wrangle | Looking forward. Delegate tasks for how to research, retrieve data, and analysis plan | \n",
    "| 5/2  | 12:30 PM  | Compile list of datasets & clarify roles/organization  | Focus on group organization. Will we use branches? How will we check in. Potential analysis techniques we will do   |\n",
    "| 5/9  | 12:30 PM  | Wrangle *some* data and have an idea on analysis | Review wrangling for correctness. Review analysis and plan   |\n",
    "| 5/16  | 12:30 PM  | Finalize wrangling, continue analysis, begin devising model | Dive in fully into analysis and have a complete review of project as a whole |\n",
    "| 5/23 | 12:30 PM  | Complete analysis and model fully and begin drafting conclusions | Discuss difficulties and edit final draft together |\n",
    "| 5/30 | 12:30 PM  | Review and fix any small details | Discuss final turn in of project before 6/13 |\n",
    "| 6/13 | Before 11:59 PM | NA | Turn in Final Project & Group Project Surveys | "
   ]
  }
 ],
 "metadata": {
  "kernelspec": {
   "display_name": "Python 3",
   "language": "python",
   "name": "python3"
  },
  "language_info": {
   "codemirror_mode": {
    "name": "ipython",
    "version": 3
   },
   "file_extension": ".py",
   "mimetype": "text/x-python",
   "name": "python",
   "nbconvert_exporter": "python",
   "pygments_lexer": "ipython3",
   "version": "3.11.9"
  }
 },
 "nbformat": 4,
 "nbformat_minor": 2
}
