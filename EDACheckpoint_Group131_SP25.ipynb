{
 "cells": [
  {
   "cell_type": "markdown",
   "metadata": {},
   "source": [
    "**If you lost points on the last checkpoint you can get them back by responding to TA/IA feedback**  \n",
    "\n",
    "Update/change the relevant sections where you lost those points, make sure you respond on GitHub Issues to your TA/IA to call their attention to the changes you made here.\n",
    "\n",
    "Please update your Timeline... no battle plan survives contact with the enemy, so make sure we understand how your plans have changed."
   ]
  },
  {
   "cell_type": "code",
   "execution_count": 1,
   "metadata": {},
   "outputs": [],
   "source": [
    "import numpy as np\n",
    "import pandas as pd"
   ]
  },
  {
   "cell_type": "markdown",
   "metadata": {},
   "source": [
    "# COGS 108 - EDA Checkpoint"
   ]
  },
  {
   "cell_type": "markdown",
   "metadata": {},
   "source": [
    "# Names\n",
    "\n",
    "- Dean Nafarrete\n",
    "- Emily Le\n",
    "- Cedric Jeng\n",
    "- Kevin Morales\n",
    "- Richard Lao"
   ]
  },
  {
   "cell_type": "markdown",
   "metadata": {},
   "source": [
    "# Research Question"
   ]
  },
  {
   "cell_type": "markdown",
   "metadata": {},
   "source": [
    "Is there a statistically significant relationship between a region's economic health(GDP and Household Income), environmental degradation(Greenhouse Gas Emissions and Air Quality), and unemployment rate on crime rates? How can we use these variables to create a new standard measurement for economic health? \n"
   ]
  },
  {
   "cell_type": "markdown",
   "metadata": {},
   "source": [
    "## Background and Prior Work"
   ]
  },
  {
   "cell_type": "markdown",
   "metadata": {},
   "source": [
    "<span style = \"font-family: 'Segoe UI'; font-size: 17px;\">\n",
    "    <p>Since the advent of the modern industrial city, crime rates in urban areas have been a consistent concern. By nature, cities are densely populated with a robust infrastructure and diverse economy, and tend to attract more people. With such a large population in a small area, it’s inevitable that crime will rise proportionally; however, underlying factors beyond industrialization are at play in these statistics. Many hold the sentiment that cities are less ideal places to settle due to factors like crime rate, population density, and homelessness while praising the large economies that seemingly contribute to these issues. Ultimately, cities have become an integral part of the globalized economy, serving as centers for trade and culture despite the negative connotations. Consequently, efforts to remedy these issues by identifying and addressing the root causes tend to go overlooked or rarely implemented. Economic health and overall quality of life are not mutually exclusive as many seem to believe. An in-depth analysis of the effects of the physical and social environment may provide insight into issues that require more allocation to reduce crime rates in the future. In studying these factors, establishing a new measure for economic health that is inclusive of issues that impact those living within cities can deviate focus away from simple measures like GDP, which only measure the gross economic output of a given region, and allow for more nuanced discussions on how to maximize economic returns while reducing the toll on average citizens.<p>\n",
    "    <p>The disproportionate amount of crime in urban areas is a topic that has been heavily explored by sociologists and economists alike. An article from the Journal of Political Economy, “Why is There More Crime in Cities?”,  compiled a number of different theories. They note that crime rates in cities outpace their rural counterparts even when accounting for the larger population. Some of the theories they posit suggest that dense city environments may cultivate less connected communities compared to smaller towns, decrease risk for criminals, or that those looking to profit from crime are likely to find it in economic centers. Ultimately, they found that crime reporting is underrepresented in cities, and the likelihood of arrest for a given crime is lower.<a name=\"#cite_note-1\">[1]</a> Regardless, it’s difficult to pinpoint any one cause, and the theories are merely speculation on the social implications on crime. As for the environment, much less research is evident. The council on Strategic Risks highlighted this issue; extreme weather events, higher temperatures, and social factors related to stresses based on climate have been linked to various forms of crime, especially violent crime. Some examples include gender-based violence against women increasing following adverse weather events and the likelihood of mass shooting events increasing in the summer months. The working theory is that changes in the environment may indirectly cause stresses that incentivize crime more by reducing the perceived risk for potential criminals.<a name=\"#cite_note-2\">[2]</a> Directly connecting a factor of climate change, like environmental degradation, may lend more credence to this issue being a factor in addressing crime in the future.<p>\n",
    "    <p>Along with changes in the climate, income inequality is a known factor in crime rates. Increasing fears over crime often go hand in hand with homelessness; as such, this phenomenon has been explored in the past. The Institute of Labor Economics studied this effect in California, finding that homeless rates and crime rates are linked, but how they are linked is interesting; high rates of homelessness increase the number of violent crimes, but not property crimes.<a name=\"cite_note-3\">[3]</a> Given this study was conducted at the state level, perhaps focusing on a single area may reaffirm or contradict this finding, depending on how a smaller, less diversified economy may have an effect. On the whole, while larger factors on crime rates appear to go overlooked, there have been some initiatives to address this disparity between economy, climate, inequality, and crime. Several states have implemented an alternate measure of economic health known as the genuine progress indicator, or GPI. This standard allows states to take into consideration non-economic factors like the environment and human health standards on the economy. According to the government of Maryland, this measure informs policymakers of economic progress without purely looking at the economic output, which may increase at the expense of its citizens.<a name=\"cite_note-4\">[4]</a> We believe that this approach is more progressive on these issues and may prove to benefit the economy and well being of individuals in unison, however, the fact that this model is only implemented in a few states as a policy informing measurement is insufficient. Finding a general link between these factors may reveal the true cost of these factors, and potentially allow us to devise another measurement that can be achieved using public data.<p>\n",
    "  </span>\n",
    "\n",
    "1. <a name=\"cite_note-1\"></a> [^](#cite_ref-1) Glaeser, E. L., & Sacerdote, B. (1999). Why is There More Crime in Cities? Journal of Political Economy, 107(S6), S225–S258. https://doi.org/10.1086/250109\n",
    "2. <a name=\"cite_note-2\"></a> [^](#cite_ref-2) Facini, A. (2024, October 17). Climate Change & Crime: A big, bad, largely overlooked Nexus. The Council on Strategic Risks. http://councilonstrategicrisks.org/2024/10/17/climate-change-crime-a-big-bad-largely-overlooked-nexus/ \n",
    "3. <a name=\"cite_note-3\"></a> [^](cite_ref-3) Artz, B., & Welsch, D. M. (2024, June). Homelessness and crime: An examination of California. Institute of Labor Economics. https://docs.iza.org/dp17086.pdf \n",
    "4. <a name=\"cite_note-4\"></a> [^](cite_ref-4) Campbell, E. (n.d.). Maryland Genuine Progress Indicator. Maryland Department of Natural Resources. https://dnr.maryland.gov/mdgpi/Pages/default.aspx "
   ]
  },
  {
   "cell_type": "markdown",
   "metadata": {},
   "source": [
    "# Hypothesis\n"
   ]
  },
  {
   "cell_type": "markdown",
   "metadata": {},
   "source": [
    "\n",
    "Our hypothesis is that there is a significant relationship with environmental degradation, high economic output, and unemployment that affects crime rates, and using these factors we can create a new measure of a city’s well being as an alternate measure of economic health. In order to measure these variables, we are looking at the air quality index, greenhouse gas index, unemployment percentage rates, and crime rates for each county. Higher outputs of the economy attract higher rates of crime because of the high foot traffic in retail centers where businesses sell products and people are carrying valuables or money. Furthermore, the stress of falling into unemployment and being homeless have individuals resorting to committing crimes as one of their survival options. As the environment continues to decline, this will also be another factor that leads to higher crime rates and in particular violent crimes due to lower air quality and greenhouse gases creating a toxic environment, thus inflicting environmental stress on the population. All of these variables are high stressing factors in people’s lives, which ultimately dictate their wellbeing, safety, and future hence why when these variables are threatened in their lives, people will turn towards committing crimes in order to ensure their survival. Additionally, we believe that there will be a noticeably greater significant effect on crime rates of our given variables in urbanized areas compared to its rural counterparts."
   ]
  },
  {
   "cell_type": "markdown",
   "metadata": {},
   "source": [
    "# Data"
   ]
  },
  {
   "cell_type": "markdown",
   "metadata": {},
   "source": [
    "## Data overview\n",
    "\n",
    "* Our ideal dataset would be a dataset that includes measures for a region's GDP, median household income, unemployment, carbon emissions, air quality, solid waste, and crime rates. Our ideal number of observations include our variables from all counties in California across multiple years with the ideal span being about 10 years. This would look like about 58 counties with a 10 year span per county. Looking at the data we have already found our time span can vary, but there is a time period where all our datasets line up.\n",
    "\n",
    "* <u>**Environmental degradation**</u> data: Green house Gas Emissions :https://www.epa.gov/system/files/other-files/2024-10/2023_data_summary_spreadsheets.zip ; Air Quality: https://www.epa.gov/outdoor-air-quality-data/air-quality-statistics-report<br>\n",
    "\n",
    "* **San Diego Median Income/Capita, Crime Rates, Unemployment info, based on specific regions in San Diego** <br>\n",
    "https://data.sandiegocounty.gov/Live-Well-San-Diego/Live-Well-/San-Diego-Database/wsyp-5xpf/about_data <br> \n",
    "\n",
    "* <u>**Unemployment.. Less than Ideal**</u> <br>\n",
    "Unemployment rate for California (as a whole):  https://labormarketinfo.edd.ca.gov/geography/california-statewide.html <br>\n",
    "Unemployment rate for California (as counties): https://labormarketinfo.edd.ca.gov/geography/lmi-by-county.html <br>\n",
    "* <u>Crime</u> <br>\n",
    "Crime rates broken down into total crime, violent crime, and property crime rates for cities/regions in San Diego county: https://data.sandiegocounty.gov/Safety/SANDAG-Crime-Data/486f-q228/data_preview <br>\n",
    "\n",
    "\n",
    "* All these sites have data that's not only obtainable but also easily processes because they are kept in Excel files. Excel files are csv files which can be easily turned into pandas dataframes. Of course, these sites contain more data than we need in our project, so tidying will be necessary. Moreover, we may choose a focus on specific types of crimes, such as violent crimes versus misdemeanors, or we may choose to look at all crime as a whole. \n",
    "\n",
    "\n",
    "For each dataset include the following information\n",
    "- Dataset #1\n",
    "  - Dataset Name: Air Quality Dataset\n",
    "  - Link to the dataset: https://www.epa.gov/outdoor-air-quality-data/air-quality-statistics-report\n",
    "  - Number of observations: 823\n",
    "  - Number of variables: 18\n",
    "  - Description: This dataset tracks county-level air quality metrics across California from 2010-2025, with each row representing a county's annual aggregate data. The key variables include AQI metrics (AQI Maximum, AQI 90th Percentile, and AQI Median), which serve as proxies for understanding the air quality in a respective county in a specific year and as baseline air quality respectively. The data requires cleaning to handle columns of information not needed in this project as well as standardizing labels to fit with our other datasets. We will use `.strip()` for removing empty spaces, `.split()` for removing redundant words, `.rename()` to clean up labels and prepare for `.merge()`.\n",
    "\n",
    "- Dataset #2 \n",
    "  - Dataset Name: Crime Rate Dataset\n",
    "  - Link to the datasets: \n",
    "  - https://dof.ca.gov/forecasting/demographics/estimates/ (for population)\n",
    "  - https://openjustice.doj.ca.gov/data (for crime count)\n",
    "  - Number of observations: 28591 (for crime), 1770 (for population)\n",
    "  - Number of variables: 70 (for crime), 3 (for population)\n",
    "  - Description: We plan to look at **Violent_sum**, **Property_sum** within the crime count dataset & **Population** within the population dataset. For both, we will look at **Year** and **County**. Both datasets contain datetime datatype for **Year**, integer datatype for **Violent_sum**, **Property_sum**, & **Population**, and string datatype for **County**, but can contain undefined values which we replace with **0** instead. \n",
    "  - We plan to use `.strip()` for removing empty spaces, `pd.to_datetime()` for converting **Year** to an integer datatype, `.split()` for removing redundant words like '*County*' in 'Alameda *County*', `.astype()` to explicity convert our data to integer, `.melt()` to reshape the population dataframe to a long format, `.drop()` for unecessary columns, `.rename()` for making consistent columns before merge, and `.merge()` to get the complete Crime Rate Dataset. Both datasets will be merged from 2000-2025, where crime rate will then be calculated directly using the population count per county and crime commited per county. This will be the rate of crime per 100,000 residents, which will be used as a proxy for how social and economic well-being.\n",
    "- Dataset #3\n",
    "  - Dataset name : Greenhouse Gas Emissions \n",
    "  - Link to the dataset: https://www.epa.gov/system/files/other-files/2024-10/2023_data_summary_spreadsheets.zip\n",
    "  - Number of Observations:767\n",
    "  - Number of Variables:3\n",
    "  - Description: We plan to use the the Green House Gas Emissions data set to look at emissions of green house gases per county, measured in units of metric tons of carbon dioxide. We plan on using **.dropna()** in order to get rid of missing data entries as well as using **.melt()** to reshape the data into long format and **.apply()** to further wrangle the dataset in order to remove the redundancy of county in the original unwrangled and tidy dataset . Further more the key observations for this datasets will be looking at the emmisions by county in CA overtime in order to compare against the other datasets in the project.\n",
    "- Dataset #4\n",
    "  - Dataset Name: Real Total GDP by County, California\n",
    "  - Link to the datasets: https://fredaccount.stlouisfed.org/public/datalist/8338\n",
    "  - Number of observations: 1357\n",
    "  - Number of variables: 2\n",
    "  - Description: We plan to use Real Total GDP for all the counties in California to compare against crime data, measured in thousands of chained 2017 USD. This dataset measures the GDP of all industries for their respective county and adjusts it for inflation, offering a true measure of economic growth that can be compared against crime data. Since the data is based on observation dates measured at the beginning of each year, we plan to change each observation date to account for the previous year's data and drop any missing data entries.\n",
    "- Dataset #5: \n",
    "  - Dataset Name: Median Household Income by County, California\n",
    "  - Link to the datasets: https://fredaccount.stlouisfed.org/public/datalist/8339\n",
    "  - Number of observations: 1357\n",
    "  - Number of variables: 2\n",
    "  - Description: We plan to use Median Household Income to compare against crime data, measured in USD, to determine whether the economic status of individuals has an effect on crime rate. This dataset measures the median household income for all counties in California. Since the data is based on observation dates measured at the beginning of each year, we plan to change each observation date to account for the previous year's data and drop any missing data entries.\n",
    "- Dataset #6:\n",
    "  - Dataset Name: Unemployment Rates by County, California\n",
    "  - Link to the datasets: https://fredaccount.stlouisfed.org/public/datalist/8337\n",
    "  - Number of observations: 1478\n",
    "  - Number of variables: 2\n",
    "  - Description: The dataset contains the unemployment percentage rates of each county within California each year from the year 2000 to 2024 to compare against crime rates in each given year. Since the data is based on observation dates measured at the beginning of each year, we plan to change each observation date to account for the previous year's data and drop any missing data entries."
   ]
  },
  {
   "cell_type": "code",
   "execution_count": null,
   "metadata": {},
   "outputs": [
    {
     "ename": "",
     "evalue": "",
     "output_type": "error",
     "traceback": [
      "\u001b[1;31mThe kernel failed to start due to an outdated version of IPython. Consider updating this module to the latest version.\n",
      "\u001b[1;31mClick <a href='https://aka.ms/kernelFailuresOldIPython'>here</a> for more info."
     ]
    }
   ],
   "source": [
    "# import necessary libraries\n",
    "\n",
    "import pandas as pd\n",
    "import numpy as np"
   ]
  },
  {
   "cell_type": "markdown",
   "metadata": {},
   "source": [
    "## Air Quality Dataset"
   ]
  },
  {
   "cell_type": "code",
   "execution_count": null,
   "metadata": {},
   "outputs": [
    {
     "ename": "",
     "evalue": "",
     "output_type": "error",
     "traceback": [
      "\u001b[1;31mThe kernel failed to start due to an outdated version of IPython. Consider updating this module to the latest version.\n",
      "\u001b[1;31mClick <a href='https://aka.ms/kernelFailuresOldIPython'>here</a> for more info."
     ]
    }
   ],
   "source": [
    "aq_df = pd.DataFrame()\n",
    "import os \n",
    "\n",
    "# Load Air Quality Datasets + Add Year Column\n",
    "for filename in os.listdir('./Datasets/AirQuality/'): \n",
    "    file_path = os.path.join('./Datasets/AirQuality/', filename)\n",
    "    if '.csv' not in file_path: \n",
    "        continue\n",
    "    year_val = int(filename.strip('aqireport.csv'))\n",
    "    df_temp = pd.read_csv(file_path)\n",
    "    df_temp = df_temp.assign(Year=year_val)\n",
    "    aq_df = pd.concat([aq_df, df_temp])\n",
    "\n",
    "# Removed Redundant Naming\n",
    "county_name = aq_df.get('County').str.split().str[:-2]\n",
    "county_name = county_name.apply(' '.join)\n",
    "aq_df['County'] = county_name\n",
    "aq_df.sort_values(by=['Year', 'County'], inplace=True)\n",
    "\n",
    "# Dropped Unnecessary Columns\n",
    "aq_df = aq_df[['County', 'AQI Maximum', 'AQI 90th Percentile', 'AQI Median', 'Year']]\n",
    "aq_df"
   ]
  },
  {
   "cell_type": "markdown",
   "metadata": {},
   "source": [
    "## Crime Dataset"
   ]
  },
  {
   "cell_type": "code",
   "execution_count": null,
   "metadata": {},
   "outputs": [],
   "source": [
    "# Loading number of crime data\n",
    "# Cleaning up data\n",
    "crime_num_df = pd.read_csv(\n",
    "    './Datasets/Crime/Crimes_and_Clearances_with_arson-1985-2023.csv', \n",
    "    dtype=object)\n",
    "crime_num_df = crime_num_df.drop(columns='NCICCode')\n",
    "crime_num_df.replace(' ', 0, inplace=True)\n",
    "crime_num_df.replace(np.nan, 0, inplace=True)\n",
    "for col in crime_num_df.columns: \n",
    "    if(col == 'County' or col == 'NCICCode'): \n",
    "        continue \n",
    "    crime_num_df[col] = crime_num_df[col].astype(int)\n",
    "crime_num_df = crime_num_df[['Year', 'County', 'Violent_sum', 'Property_sum']].groupby(['Year', 'County']).sum()\n",
    "crime_num_df = crime_num_df.reset_index()\n",
    "#Filter to start from 2001\n",
    "crime_num_df = crime_num_df[crime_num_df['Year'] >= 2000]\n",
    "\n",
    "# Removing 'County'\n",
    "crime_num_df['Year'] = crime_num_df['Year'].astype(object)\n",
    "name = crime_num_df.get('County').str.split().str[:-1]\n",
    "crime_num_df['County'] = name.apply(' '.join)\n",
    "\n",
    "crime_num_df"
   ]
  },
  {
   "cell_type": "code",
   "execution_count": null,
   "metadata": {},
   "outputs": [],
   "source": [
    "# Load Population Data for 2000-2010\n",
    "p1_df = pd.read_excel(\n",
    "    './Datasets/Census/E4_2000-2010_Report_Final_EOC_000.xlsx',\n",
    "    sheet_name=1,skiprows=3)\n",
    "p1_df.dropna(how='all', inplace=True)\n",
    "p1_df = pd.melt(\n",
    "    p1_df, id_vars='COUNTY',\n",
    "    var_name='Year', \n",
    "    value_name='Population')\n",
    "p1_df['COUNTY'] = p1_df.get('COUNTY').str.strip()\n",
    "\n",
    "# Load Population Data for 2010-2020\n",
    "p2_df = pd.read_excel(\n",
    "    './Datasets/Census/E-4_2010-2020-Internet-Version.xlsx',\n",
    "    sheet_name=1, skiprows=1)\n",
    "p2_df.drop(columns=['Column1', 'Column2'], inplace=True)\n",
    "p2_df = pd.melt(p2_df, id_vars='COUNTY', var_name='Year',\n",
    "    value_name='Population')\n",
    "p2_df.dropna(how='all', inplace=True)\n",
    "p2_df['COUNTY'] = p2_df.get('COUNTY').str.strip()\n",
    "p2_df.get('Year').apply(pd.to_datetime)\n",
    "\n",
    "# Load Population Data 2020-2025\n",
    "p3_df = pd.read_excel(\n",
    "    './Datasets/Census/E-4_2025_InternetVersion.xlsx',\n",
    "    sheet_name=1, skiprows=2)\n",
    "p3_df = p3_df.iloc[0:59]\n",
    "p3_df = pd.melt(p3_df, id_vars='County', var_name='Year',\n",
    "    value_name='Population')\n",
    "p3_df['County'] = p3_df.get('County').str.strip()\n",
    "p3_df = p3_df.rename(columns={'County': \"COUNTY\"})\n",
    "p3_df\n",
    "\n",
    "# Merge Population Data From 2000-2025 + Clean Up Data\n",
    "pop_df = pd.concat([p1_df, p2_df, p3_df])\n",
    "pop_df['Year'] = pop_df.get('Year').apply(pd.to_datetime).dt.year\n",
    "pop_df.rename(columns={'COUNTY':'County'}, inplace=True)\n",
    "pop_df['Year'] = pop_df['Year'].astype(object)\n",
    "pop_df"
   ]
  },
  {
   "cell_type": "code",
   "execution_count": null,
   "metadata": {},
   "outputs": [],
   "source": [
    "# Merge Population Dataset With Crime Number Dataset\n",
    "crime_rate_df = pop_df.merge(crime_num_df, on=['Year', 'County'])\n",
    "\n",
    "# Calculate crime rate percentages\n",
    "crime_rate_df['Violent_rate'] = (crime_rate_df['Violent_sum'])/(crime_rate_df['Population'])\n",
    "crime_rate_df['Property_rate'] = (crime_rate_df['Property_sum'])/(crime_rate_df['Population'])\n",
    "\n",
    "# Multiply to get rate of crime per 100,000 residents \n",
    "crime_rate_df['Violent_rate'] = (crime_rate_df['Violent_rate'] * 100000).apply(round)\n",
    "crime_rate_df['Property_rate'] = (crime_rate_df['Property_rate'] * 100000).apply(round)\n",
    "\n",
    "\n",
    "crime_rate_df.head()"
   ]
  },
  {
   "cell_type": "code",
   "execution_count": null,
   "metadata": {},
   "outputs": [],
   "source": [
    "crime_rate_df.shape"
   ]
  },
  {
   "cell_type": "markdown",
   "metadata": {},
   "source": [
    "## Green House Gas Emissions Dataset (measured in units of metric tons of Carbon Dioxide)"
   ]
  },
  {
   "cell_type": "code",
   "execution_count": null,
   "metadata": {},
   "outputs": [],
   "source": [
    "# loading data into a df \n",
    "Ge_df = pd.read_excel('./Datasets/ghgp_data_by_year_2023.xlsx', skiprows=3)\n",
    "\n",
    "# filtering th df to contain only rows relevant to California\n",
    "Ge_df = Ge_df[Ge_df['State']=='CA']\n",
    "Ge_df = Ge_df.dropna()\n",
    "\n",
    "Ge_df['County'] = Ge_df['County'].str.upper()\n",
    "# removing redundancy of 'County ' in each county name as it will become its own column\n",
    "Ge_df['County'] = Ge_df['County'].apply(lambda x: x.replace('COUNTY','') if 'COUNTY' in x else x)\n",
    "year = 2023\n",
    "for col in Ge_df.columns:\n",
    "    if col.startswith('20'):\n",
    "        Ge_df.rename(columns = {col :f'{year}'}, inplace=True)\n",
    "        year = year-1\n",
    "Ge_df = Ge_df[['County','2023','2022','2021','2020','2019','2018','2017','2016','2015','2014','2013','2012','2011']]\n",
    "Ge_df.head()\n",
    "\n",
    "Ge_df = pd.melt(Ge_df, id_vars= ['County',], var_name='Year', value_name = 'emmisions')\n",
    "Ge_df = Ge_df.groupby(['County','Year',], as_index =False).sum()\n",
    "#wrangled and tidy data set based of year, county and emmisions\n",
    "Ge_df.head(20)"
   ]
  },
  {
   "cell_type": "markdown",
   "metadata": {},
   "source": [
    "## GDP Dataset"
   ]
  },
  {
   "cell_type": "code",
   "execution_count": null,
   "metadata": {},
   "outputs": [],
   "source": [
    "#load gdp dataset, convert columns to county fip code\n",
    "realgdp_ca = pd.read_csv('./Datasets/GDP & Income Data/gdp-by-county-ca2.csv')\n",
    "realgdp_ca.columns = [int(col.replace('REALGDPALL', '')) if col.startswith('REALGDPALL') else col for col in realgdp_ca.columns]\n",
    "\n",
    "#load list of fip codes, replace fip codes in gdp dataset with county names\n",
    "fips_df = pd.read_csv('https://raw.githubusercontent.com/kjhealy/fips-codes/master/state_and_county_fips_master.csv')\n",
    "fips_ca = fips_df[fips_df['state'] == 'CA']\n",
    "fips_county = dict(zip(fips_ca['fips'], fips_ca['name']))\n",
    "realgdp_ca.rename(columns=fips_county, inplace=True)\n",
    "\n",
    "#units (Thousands of Chained 2017 USD, Not Seasonally Adjusted)\n",
    "realgdp_ca.attrs['units'] = 'Thousands of Chained 2017 USD'\n",
    "\n",
    "realgdp_ca.head()"
   ]
  },
  {
   "cell_type": "markdown",
   "metadata": {},
   "source": [
    "## Median Household Income Dataset"
   ]
  },
  {
   "cell_type": "code",
   "execution_count": null,
   "metadata": {},
   "outputs": [],
   "source": [
    "#load median income dataset, convert columns to county fip code\n",
    "medianinc_ca = pd.read_csv('./Datasets/GDP & Income Data/median-income-county-ca.csv')\n",
    "medianinc_ca.columns = [col.replace('A052NCEN', '') if col.startswith('MHICA') else col for col in medianinc_ca.columns]\n",
    "medianinc_ca.columns = [int(col.replace('MHICA', '')) if col.startswith('MHICA') else col for col in medianinc_ca.columns]\n",
    "\n",
    "#replace fip codes in median income dataset with county names\n",
    "medianinc_ca.rename(columns=fips_county, inplace=True)\n",
    "\n",
    "#units (USD, Not Seasonally Adjusted)\n",
    "medianinc_ca.attrs['units'] = 'USD, Unadjusted for inflation'\n",
    "\n",
    "medianinc_ca"
   ]
  },
  {
   "cell_type": "markdown",
   "metadata": {},
   "source": [
    "## Unemployment Rates Dataset"
   ]
  },
  {
   "cell_type": "code",
   "execution_count": 12,
   "metadata": {},
   "outputs": [],
   "source": [
    "unemploymentrate = pd.read_csv('./Datasets/Unemployment/Unemployment_by_counties.csv')\n",
    "unemploymentrate.head()"
   ]
  },
  {
   "cell_type": "markdown",
   "metadata": {},
   "source": [
    "# Results\n",
    "\n",
    "## Exploratory Data Analysis\n",
    "\n",
    "Carry out whatever EDA you need to for your project.  Because every project will be different we can't really give you much of a template at this point. But please make sure you describe the what and why in text here as well as providing interpretation of results and context."
   ]
  },
  {
   "cell_type": "markdown",
   "metadata": {},
   "source": [
    "### Section 1 of EDA - please give it a better title than this\n",
    "\n",
    "Some more words and stuff.  Remember notebooks work best if you interleave the code that generates a result with properly annotate figures and text that puts these results into context."
   ]
  },
  {
   "cell_type": "code",
   "execution_count": null,
   "metadata": {},
   "outputs": [],
   "source": [
    "## YOUR CODE HERE\n",
    "## FEEL FREE TO ADD MULTIPLE CELLS PER SECTION"
   ]
  },
  {
   "cell_type": "markdown",
   "metadata": {},
   "source": [
    "### Section 2 of EDA if you need it  - please give it a better title than this\n",
    "\n",
    "Some more words and stuff.  Remember notebooks work best if you interleave the code that generates a result with properly annotate figures and text that puts these results into context."
   ]
  },
  {
   "cell_type": "code",
   "execution_count": null,
   "metadata": {},
   "outputs": [],
   "source": [
    "## YOUR CODE HERE\n",
    "## FEEL FREE TO ADD MULTIPLE CELLS PER SECTION"
   ]
  },
  {
   "cell_type": "markdown",
   "metadata": {},
   "source": [
    "# Ethics & Privacy"
   ]
  },
  {
   "cell_type": "markdown",
   "metadata": {},
   "source": [
    "When it comes to dealing with ethics for our project, there may be potential county bias in the data available since it may be the case that there are missing counties that are underrepresented in the available government datasets listed above. That is, Lassen, Modoc, Sierra, and Yuba.\n",
    "Additionally, there may be a confounding variable as not all crime and unemployment may be accounted for if not reported to the government. Though a confounding variable, the data collected from websites such as openjustice.doj.ca.gov permits the public usage of the data from their webiste, noting that their website public data is made sure to not include personal information of minors and or use copyrighted material. Furthermore, there may be bias in our statistical analyses when it comes to looking at the rate of crime rate for a specific high income cities which can bias our interpretations of the data. <br>\n",
    "\n",
    "To address these issues, we will explore what missing counties there are in the datasets and why they are underrepresented. That way, we can transparently report these reasons as factors that can impact our intrepretation when we analyze our data. For instance, findings that indicate a strong relationship between our variables and crime rate may not be applicable to rural areas. Furthermore, regarding data collections, data regarding crime and umemployment are tracked by the government, but this is something out of our scope of responsibilities. Instead, we can acknowledge that a negative may be consistent with a 'false negative' because of the underrepresentation when interpreting the relationship between our variables and crime. In this understanding, we may not be able to say for certain that findings of 'no relationship' is true. We will make sure to aggregate a diverse set of counties in our datasets such that we can mitigate and reduce any regional bias as much as possible.\n",
    "\n",
    "Our aim for this project is to find a more accurate measure for county's well-being, i.e. environment and economic factors may be considered, and how we can use this for a predictor model that can assist in assessing counties for their levels of crime. This project can be scaled for use in determining how the government can improve their allocation of resources to improve a county's well-being. However, because of bias in our project, our findings may only be applicable to counties similar to San Diego. That is, underrepresented counties should not be observed with our lens. Despite this bias, misuse or misinterpretation of our finding can be misleading and improperly measure a county's well-being. This can lead to reduction in select counties' aid from the government that can adversely affect them. \n",
    "\n",
    "In creating a new model for economic health, it's important to note that these measures are, in of itself, arbitrary and may not be truly holistic in accounting for economic health and individual needs. If a standard measure like ours were to be implemented in policy, as is the case with measures like the Genuine Progress Indicator, it may result in greater spending towards certain programs without substantive change for the individual or for the economy. Consequently, we must accept that the revised formula in our model should be taken with a grain of salt, and should only be used as a prototype of a new model that can be created with publicly available data."
   ]
  },
  {
   "cell_type": "markdown",
   "metadata": {},
   "source": [
    "# Team Expectations "
   ]
  },
  {
   "cell_type": "markdown",
   "metadata": {},
   "source": [
    "* Use Discord to communicate. Within 12 hours expected, but 2 hours if close to deadline.\n",
    "* Meet at least **once** a week - Every Friday 12:30 PM. \n",
    "* Have an open space where all voices are heard. Everyone should be open to ideas, criticisms, and suggestions. Make decisions as a group. Majority vote makes final decisions on major portions of the project.\n",
    "* Specializations: Dean (Project Leader), Kevin (Analysis), Emily (Editor), Cedric and Richard (Coder). Project leader will be in charge of handling merge requests, delegating group responsibilities, and organizing roles/meets. Analysis is in charge of overseeing the analysis portion and guiding the rest of the group members on statistics-related items. Editor will be in charge of major writing responsibilities, including drafting reports and proofreading. Coders will advise on coding for the rest of the group and oversee data wrangling portion. These roles are not restrictive - everyone will work on each part a little, but these are the main *specializations*\n",
    "* In the event someone is struggling to deliver something they promised on, it is expected to let the group know as soon as possible. That way, we can look to delegate the tasks among the others to compensate. Project Leader will make final decision to contact TA as needed."
   ]
  },
  {
   "cell_type": "markdown",
   "metadata": {},
   "source": [
    "# Project Timeline Proposal"
   ]
  },
  {
   "cell_type": "markdown",
   "metadata": {},
   "source": [
    "Specify your team's specific project timeline. An example timeline has been provided. Changes the dates, times, names, and details to fit your group's plan.\n",
    "\n",
    "If you think you will need any special resources or training outside what we have covered in COGS 108 to solve your problem, then your proposal should state these clearly. For example, if you have selected a problem that involves implementing multiple neural networks, please state this so we can make sure you know what you’re doing and so we can point you to resources you will need to implement your project. Note that you are not required to use outside methods.\n",
    "\n",
    "\n",
    "\n",
    "| Meeting Date  | Meeting Time| Completed Before Meeting  | Discuss at Meeting |\n",
    "|---|---|---|---|\n",
    "| 4/25  |  4 PM | Brainstormed topics and questions | Finalized research question and delegated tasks for proposal. Rough research done on topic. | \n",
    "| 4/28  |  8 PM |  Finalize Proposal. Hypothesis, Looking for Data, Ethics, How to Data Wrangle | Looking forward. Delegate tasks for how to research, retrieve data, and analysis plan | \n",
    "| 5/2  | 12:30 PM  | Compile list of datasets & clarify roles/organization  | Focus on group organization. Will we use branches? How will we check in. Potential analysis techniques we will do   |\n",
    "| 5/9  | 12:30 PM  | Wrangle *some* data and have an idea on analysis | Review wrangling for correctness. Review analysis and plan   |\n",
    "| 5/16  | 12:30 PM  | Finalize wrangling, continue EDA, begin devising model | Dive in fully into EDA and move onto ANALYSIS and have a complete review of project as a whole |\n",
    "| 5/23 | 12:30 PM  | Continue analysis and model fully and begin drafting conclusions | Discuss difficulties and edit final draft together |\n",
    "| 5/30 | 12:30 PM  | Review and fix any small details | Discuss final turn in of project before 6/13 |\n",
    "| 6/13 | Before 11:59 PM | NA | Turn in Final Project & Group Project Surveys | "
   ]
  }
 ],
 "metadata": {
  "kernelspec": {
   "display_name": "Python 3",
   "language": "python",
   "name": "python3"
  },
  "language_info": {
   "codemirror_mode": {
    "name": "ipython",
    "version": 3
   },
   "file_extension": ".py",
   "mimetype": "text/x-python",
   "name": "python",
   "nbconvert_exporter": "python",
   "pygments_lexer": "ipython3",
   "version": "3.6.6"
  }
 },
 "nbformat": 4,
 "nbformat_minor": 2
}
